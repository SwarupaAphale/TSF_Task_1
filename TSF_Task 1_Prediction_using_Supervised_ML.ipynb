{
 "cells": [
  {
   "cell_type": "code",
   "execution_count": null,
   "id": "d9be6a55",
   "metadata": {},
   "outputs": [],
   "source": [
    "Author: Swarupa Aphale"
   ]
  },
  {
   "cell_type": "code",
   "execution_count": null,
   "id": "a165d227",
   "metadata": {},
   "outputs": [],
   "source": [
    "Data Science & Business Analytics Intern"
   ]
  },
  {
   "cell_type": "code",
   "execution_count": null,
   "id": "b201f6a5",
   "metadata": {},
   "outputs": [],
   "source": [
    "GRIP @ The Sparks Foundation"
   ]
  },
  {
   "cell_type": "code",
   "execution_count": null,
   "id": "7509c704",
   "metadata": {},
   "outputs": [],
   "source": [
    "Task 1: Prediction using Supervised ML"
   ]
  },
  {
   "cell_type": "code",
   "execution_count": null,
   "id": "cfaf85c1",
   "metadata": {},
   "outputs": [],
   "source": [
    "Aim: 1) To predict the percentage of an student based on the no. of study hours\n",
    "     2) What will be predicted score if a student studies for 9.25 hrs/day?"
   ]
  },
  {
   "cell_type": "markdown",
   "id": "849651bb",
   "metadata": {},
   "source": [
    "## Step 1: Import Python Libraries"
   ]
  },
  {
   "cell_type": "code",
   "execution_count": 1,
   "id": "978dbb90",
   "metadata": {},
   "outputs": [],
   "source": [
    "import pandas as pd\n",
    "# Supress Warnings\n",
    "import warnings \n",
    "warnings.filterwarnings('ignore')"
   ]
  },
  {
   "cell_type": "markdown",
   "id": "a99d0ced",
   "metadata": {},
   "source": [
    "## Step 2: Loading of Dataset"
   ]
  },
  {
   "cell_type": "code",
   "execution_count": 2,
   "id": "896a21eb",
   "metadata": {},
   "outputs": [
    {
     "data": {
      "text/html": [
       "<div>\n",
       "<style scoped>\n",
       "    .dataframe tbody tr th:only-of-type {\n",
       "        vertical-align: middle;\n",
       "    }\n",
       "\n",
       "    .dataframe tbody tr th {\n",
       "        vertical-align: top;\n",
       "    }\n",
       "\n",
       "    .dataframe thead th {\n",
       "        text-align: right;\n",
       "    }\n",
       "</style>\n",
       "<table border=\"1\" class=\"dataframe\">\n",
       "  <thead>\n",
       "    <tr style=\"text-align: right;\">\n",
       "      <th></th>\n",
       "      <th>Hours_of_Study</th>\n",
       "      <th>Percentage</th>\n",
       "    </tr>\n",
       "  </thead>\n",
       "  <tbody>\n",
       "    <tr>\n",
       "      <th>0</th>\n",
       "      <td>2.5</td>\n",
       "      <td>21</td>\n",
       "    </tr>\n",
       "    <tr>\n",
       "      <th>1</th>\n",
       "      <td>5.1</td>\n",
       "      <td>47</td>\n",
       "    </tr>\n",
       "    <tr>\n",
       "      <th>2</th>\n",
       "      <td>3.2</td>\n",
       "      <td>27</td>\n",
       "    </tr>\n",
       "    <tr>\n",
       "      <th>3</th>\n",
       "      <td>8.5</td>\n",
       "      <td>75</td>\n",
       "    </tr>\n",
       "    <tr>\n",
       "      <th>4</th>\n",
       "      <td>3.5</td>\n",
       "      <td>30</td>\n",
       "    </tr>\n",
       "  </tbody>\n",
       "</table>\n",
       "</div>"
      ],
      "text/plain": [
       "   Hours_of_Study  Percentage\n",
       "0             2.5          21\n",
       "1             5.1          47\n",
       "2             3.2          27\n",
       "3             8.5          75\n",
       "4             3.5          30"
      ]
     },
     "execution_count": 2,
     "metadata": {},
     "output_type": "execute_result"
    }
   ],
   "source": [
    "df = pd.read_csv('task_1_tsf.csv')\n",
    "df.head()"
   ]
  },
  {
   "cell_type": "code",
   "execution_count": 3,
   "id": "ecdfaf92",
   "metadata": {},
   "outputs": [
    {
     "data": {
      "text/html": [
       "<div>\n",
       "<style scoped>\n",
       "    .dataframe tbody tr th:only-of-type {\n",
       "        vertical-align: middle;\n",
       "    }\n",
       "\n",
       "    .dataframe tbody tr th {\n",
       "        vertical-align: top;\n",
       "    }\n",
       "\n",
       "    .dataframe thead th {\n",
       "        text-align: right;\n",
       "    }\n",
       "</style>\n",
       "<table border=\"1\" class=\"dataframe\">\n",
       "  <thead>\n",
       "    <tr style=\"text-align: right;\">\n",
       "      <th></th>\n",
       "      <th>Hours_of_Study</th>\n",
       "      <th>Percentage</th>\n",
       "    </tr>\n",
       "  </thead>\n",
       "  <tbody>\n",
       "    <tr>\n",
       "      <th>0</th>\n",
       "      <td>1.1</td>\n",
       "      <td>17</td>\n",
       "    </tr>\n",
       "    <tr>\n",
       "      <th>1</th>\n",
       "      <td>1.5</td>\n",
       "      <td>20</td>\n",
       "    </tr>\n",
       "    <tr>\n",
       "      <th>2</th>\n",
       "      <td>1.9</td>\n",
       "      <td>24</td>\n",
       "    </tr>\n",
       "    <tr>\n",
       "      <th>3</th>\n",
       "      <td>2.5</td>\n",
       "      <td>21</td>\n",
       "    </tr>\n",
       "    <tr>\n",
       "      <th>4</th>\n",
       "      <td>2.5</td>\n",
       "      <td>30</td>\n",
       "    </tr>\n",
       "  </tbody>\n",
       "</table>\n",
       "</div>"
      ],
      "text/plain": [
       "   Hours_of_Study  Percentage\n",
       "0             1.1          17\n",
       "1             1.5          20\n",
       "2             1.9          24\n",
       "3             2.5          21\n",
       "4             2.5          30"
      ]
     },
     "execution_count": 3,
     "metadata": {},
     "output_type": "execute_result"
    }
   ],
   "source": [
    "# Data Sorting\n",
    "df_n = df.sort_values(by = 'Hours_of_Study',ignore_index=True)\n",
    "df_n.head()"
   ]
  },
  {
   "cell_type": "markdown",
   "id": "1b795ac3",
   "metadata": {},
   "source": [
    "## Step 3: Data Visualization"
   ]
  },
  {
   "cell_type": "code",
   "execution_count": 4,
   "id": "8a10c360",
   "metadata": {},
   "outputs": [
    {
     "data": {
      "text/plain": [
       "<AxesSubplot:xlabel='Hours_of_Study', ylabel='Percentage'>"
      ]
     },
     "execution_count": 4,
     "metadata": {},
     "output_type": "execute_result"
    },
    {
     "data": {
      "image/png": "[encoded data removed]",
      "text/plain": [
       "<Figure size 432x288 with 1 Axes>"
      ]
     },
     "metadata": {
      "needs_background": "light"
     },
     "output_type": "display_data"
    }
   ],
   "source": [
    "df_n.plot.scatter(x = 'Hours_of_Study', y = 'Percentage')"
   ]
  },
  {
   "cell_type": "code",
   "execution_count": 5,
   "id": "25bb2324",
   "metadata": {},
   "outputs": [
    {
     "data": {
      "text/html": [
       "<style type=\"text/css\">\n",
       "#T_60719_row0_col0, #T_60719_row1_col1 {\n",
       "  background-color: #08306b;\n",
       "  color: #f1f1f1;\n",
       "}\n",
       "#T_60719_row0_col1, #T_60719_row1_col0 {\n",
       "  background-color: #f7fbff;\n",
       "  color: #000000;\n",
       "}\n",
       "</style>\n",
       "<table id=\"T_60719\">\n",
       "  <thead>\n",
       "    <tr>\n",
       "      <th class=\"blank level0\" >&nbsp;</th>\n",
       "      <th id=\"T_60719_level0_col0\" class=\"col_heading level0 col0\" >Hours_of_Study</th>\n",
       "      <th id=\"T_60719_level0_col1\" class=\"col_heading level0 col1\" >Percentage</th>\n",
       "    </tr>\n",
       "  </thead>\n",
       "  <tbody>\n",
       "    <tr>\n",
       "      <th id=\"T_60719_level0_row0\" class=\"row_heading level0 row0\" >Hours_of_Study</th>\n",
       "      <td id=\"T_60719_row0_col0\" class=\"data row0 col0\" >1.000000</td>\n",
       "      <td id=\"T_60719_row0_col1\" class=\"data row0 col1\" >0.976191</td>\n",
       "    </tr>\n",
       "    <tr>\n",
       "      <th id=\"T_60719_level0_row1\" class=\"row_heading level0 row1\" >Percentage</th>\n",
       "      <td id=\"T_60719_row1_col0\" class=\"data row1 col0\" >0.976191</td>\n",
       "      <td id=\"T_60719_row1_col1\" class=\"data row1 col1\" >1.000000</td>\n",
       "    </tr>\n",
       "  </tbody>\n",
       "</table>\n"
      ],
      "text/plain": [
       "<pandas.io.formats.style.Styler at 0x1de7dfeab80>"
      ]
     },
     "execution_count": 5,
     "metadata": {},
     "output_type": "execute_result"
    }
   ],
   "source": [
    "df_n.corr().style.background_gradient('Blues')"
   ]
  },
  {
   "cell_type": "markdown",
   "id": "abb95160",
   "metadata": {},
   "source": [
    "### From Heatmap, we get information that, 'Hours of Study' & 'Percentage' have higher corelation like 0.9. Also from Scatter plot, we can say that, there is a linear relationship between 'Percentage' and 'Hours of Study'. Hence we can apply Simple Linear Regression on this dataset."
   ]
  },
  {
   "cell_type": "markdown",
   "id": "d79e57db",
   "metadata": {},
   "source": [
    "## Step 4: Perform Simple Linear Regression Algorithm"
   ]
  },
  {
   "cell_type": "markdown",
   "id": "6d6ec52c",
   "metadata": {},
   "source": [
    "##### Here, 'Hours_of_Study' is the independent variable (plotted on X-axis) and 'Percentage' is dependent variable (plotted on Y-axis)"
   ]
  },
  {
   "cell_type": "code",
   "execution_count": 6,
   "id": "153b296d",
   "metadata": {},
   "outputs": [
    {
     "data": {
      "text/html": [
       "<div>\n",
       "<style scoped>\n",
       "    .dataframe tbody tr th:only-of-type {\n",
       "        vertical-align: middle;\n",
       "    }\n",
       "\n",
       "    .dataframe tbody tr th {\n",
       "        vertical-align: top;\n",
       "    }\n",
       "\n",
       "    .dataframe thead th {\n",
       "        text-align: right;\n",
       "    }\n",
       "</style>\n",
       "<table border=\"1\" class=\"dataframe\">\n",
       "  <thead>\n",
       "    <tr style=\"text-align: right;\">\n",
       "      <th></th>\n",
       "      <th>Hours_of_Study</th>\n",
       "    </tr>\n",
       "  </thead>\n",
       "  <tbody>\n",
       "    <tr>\n",
       "      <th>0</th>\n",
       "      <td>1.1</td>\n",
       "    </tr>\n",
       "    <tr>\n",
       "      <th>1</th>\n",
       "      <td>1.5</td>\n",
       "    </tr>\n",
       "    <tr>\n",
       "      <th>2</th>\n",
       "      <td>1.9</td>\n",
       "    </tr>\n",
       "  </tbody>\n",
       "</table>\n",
       "</div>"
      ],
      "text/plain": [
       "   Hours_of_Study\n",
       "0             1.1\n",
       "1             1.5\n",
       "2             1.9"
      ]
     },
     "execution_count": 6,
     "metadata": {},
     "output_type": "execute_result"
    }
   ],
   "source": [
    "X = df_n[['Hours_of_Study']]\n",
    "X[:3]"
   ]
  },
  {
   "cell_type": "code",
   "execution_count": 7,
   "id": "dc682093",
   "metadata": {},
   "outputs": [
    {
     "data": {
      "text/plain": [
       "0    17\n",
       "1    20\n",
       "2    24\n",
       "Name: Percentage, dtype: int64"
      ]
     },
     "execution_count": 7,
     "metadata": {},
     "output_type": "execute_result"
    }
   ],
   "source": [
    "y = df_n.Percentage\n",
    "y[:3]"
   ]
  },
  {
   "cell_type": "markdown",
   "id": "d9e9f50b",
   "metadata": {},
   "source": [
    "##### For ML, we use sklearn library also known as scikit learn"
   ]
  },
  {
   "cell_type": "code",
   "execution_count": 8,
   "id": "e2e3976c",
   "metadata": {},
   "outputs": [],
   "source": [
    "# call the algorithm/Create an object of algorithm\n",
    "from sklearn.linear_model import LinearRegression"
   ]
  },
  {
   "cell_type": "code",
   "execution_count": 9,
   "id": "95a44a57",
   "metadata": {},
   "outputs": [
    {
     "data": {
      "text/plain": [
       "LinearRegression()"
      ]
     },
     "execution_count": 9,
     "metadata": {},
     "output_type": "execute_result"
    }
   ],
   "source": [
    "model = LinearRegression()\n",
    "model"
   ]
  },
  {
   "cell_type": "markdown",
   "id": "0b01989f",
   "metadata": {},
   "source": [
    "##### Perform model training"
   ]
  },
  {
   "cell_type": "code",
   "execution_count": 10,
   "id": "d5050a14",
   "metadata": {},
   "outputs": [
    {
     "data": {
      "text/plain": [
       "LinearRegression()"
      ]
     },
     "execution_count": 10,
     "metadata": {},
     "output_type": "execute_result"
    }
   ],
   "source": [
    "model.fit(X,y)"
   ]
  },
  {
   "cell_type": "markdown",
   "id": "68331044",
   "metadata": {},
   "source": [
    "##### Perform model testing"
   ]
  },
  {
   "cell_type": "code",
   "execution_count": 11,
   "id": "bb08492f",
   "metadata": {},
   "outputs": [
    {
     "data": {
      "text/plain": [
       "array([92.90985477])"
      ]
     },
     "execution_count": 11,
     "metadata": {},
     "output_type": "execute_result"
    }
   ],
   "source": [
    "# model testing\n",
    "model.predict([[9.25]])"
   ]
  },
  {
   "cell_type": "markdown",
   "id": "67250a87",
   "metadata": {},
   "source": [
    "##### So, 92.90% will be the predicted score if a student studies for 9.25 hrs/day.  "
   ]
  },
  {
   "cell_type": "code",
   "execution_count": 12,
   "id": "05e60ec2",
   "metadata": {},
   "outputs": [
    {
     "data": {
      "text/plain": [
       "(Hours_of_Study    1.1\n",
       " dtype: float64,\n",
       " Hours_of_Study    9.2\n",
       " dtype: float64)"
      ]
     },
     "execution_count": 12,
     "metadata": {},
     "output_type": "execute_result"
    }
   ],
   "source": [
    "X.min(),X.max()"
   ]
  },
  {
   "cell_type": "code",
   "execution_count": 13,
   "id": "1783233b",
   "metadata": {},
   "outputs": [
    {
     "data": {
      "text/plain": [
       "array([2.48367341])"
      ]
     },
     "execution_count": 13,
     "metadata": {},
     "output_type": "execute_result"
    }
   ],
   "source": [
    "model.predict([[0]])"
   ]
  },
  {
   "cell_type": "code",
   "execution_count": 14,
   "id": "c0a52921",
   "metadata": {},
   "outputs": [
    {
     "data": {
      "text/plain": [
       "array([98.28654664])"
      ]
     },
     "execution_count": 14,
     "metadata": {},
     "output_type": "execute_result"
    }
   ],
   "source": [
    "model.predict([[9.8]])"
   ]
  },
  {
   "cell_type": "markdown",
   "id": "256b6c43",
   "metadata": {},
   "source": [
    "## Step 5: Perform Predictions on test set"
   ]
  },
  {
   "cell_type": "code",
   "execution_count": 15,
   "id": "78c1c7fe",
   "metadata": {},
   "outputs": [
    {
     "data": {
      "text/html": [
       "<div>\n",
       "<style scoped>\n",
       "    .dataframe tbody tr th:only-of-type {\n",
       "        vertical-align: middle;\n",
       "    }\n",
       "\n",
       "    .dataframe tbody tr th {\n",
       "        vertical-align: top;\n",
       "    }\n",
       "\n",
       "    .dataframe thead th {\n",
       "        text-align: right;\n",
       "    }\n",
       "</style>\n",
       "<table border=\"1\" class=\"dataframe\">\n",
       "  <thead>\n",
       "    <tr style=\"text-align: right;\">\n",
       "      <th></th>\n",
       "      <th>Hours_of_Study</th>\n",
       "      <th>Percentage</th>\n",
       "    </tr>\n",
       "  </thead>\n",
       "  <tbody>\n",
       "    <tr>\n",
       "      <th>21</th>\n",
       "      <td>8.3</td>\n",
       "      <td>81</td>\n",
       "    </tr>\n",
       "    <tr>\n",
       "      <th>8</th>\n",
       "      <td>3.3</td>\n",
       "      <td>42</td>\n",
       "    </tr>\n",
       "    <tr>\n",
       "      <th>20</th>\n",
       "      <td>7.8</td>\n",
       "      <td>86</td>\n",
       "    </tr>\n",
       "  </tbody>\n",
       "</table>\n",
       "</div>"
      ],
      "text/plain": [
       "    Hours_of_Study  Percentage\n",
       "21             8.3          81\n",
       "8              3.3          42\n",
       "20             7.8          86"
      ]
     },
     "execution_count": 15,
     "metadata": {},
     "output_type": "execute_result"
    }
   ],
   "source": [
    "# input test data\n",
    "test = df_n.sample(10)\n",
    "test[:3]"
   ]
  },
  {
   "cell_type": "code",
   "execution_count": 16,
   "id": "435620e0",
   "metadata": {},
   "outputs": [
    {
     "data": {
      "text/html": [
       "<div>\n",
       "<style scoped>\n",
       "    .dataframe tbody tr th:only-of-type {\n",
       "        vertical-align: middle;\n",
       "    }\n",
       "\n",
       "    .dataframe tbody tr th {\n",
       "        vertical-align: top;\n",
       "    }\n",
       "\n",
       "    .dataframe thead th {\n",
       "        text-align: right;\n",
       "    }\n",
       "</style>\n",
       "<table border=\"1\" class=\"dataframe\">\n",
       "  <thead>\n",
       "    <tr style=\"text-align: right;\">\n",
       "      <th></th>\n",
       "      <th>Hours_of_Study</th>\n",
       "    </tr>\n",
       "  </thead>\n",
       "  <tbody>\n",
       "    <tr>\n",
       "      <th>21</th>\n",
       "      <td>8.3</td>\n",
       "    </tr>\n",
       "    <tr>\n",
       "      <th>8</th>\n",
       "      <td>3.3</td>\n",
       "    </tr>\n",
       "    <tr>\n",
       "      <th>20</th>\n",
       "      <td>7.8</td>\n",
       "    </tr>\n",
       "    <tr>\n",
       "      <th>9</th>\n",
       "      <td>3.5</td>\n",
       "    </tr>\n",
       "    <tr>\n",
       "      <th>16</th>\n",
       "      <td>6.1</td>\n",
       "    </tr>\n",
       "    <tr>\n",
       "      <th>3</th>\n",
       "      <td>2.5</td>\n",
       "    </tr>\n",
       "    <tr>\n",
       "      <th>19</th>\n",
       "      <td>7.7</td>\n",
       "    </tr>\n",
       "    <tr>\n",
       "      <th>18</th>\n",
       "      <td>7.4</td>\n",
       "    </tr>\n",
       "    <tr>\n",
       "      <th>13</th>\n",
       "      <td>5.1</td>\n",
       "    </tr>\n",
       "    <tr>\n",
       "      <th>5</th>\n",
       "      <td>2.7</td>\n",
       "    </tr>\n",
       "  </tbody>\n",
       "</table>\n",
       "</div>"
      ],
      "text/plain": [
       "    Hours_of_Study\n",
       "21             8.3\n",
       "8              3.3\n",
       "20             7.8\n",
       "9              3.5\n",
       "16             6.1\n",
       "3              2.5\n",
       "19             7.7\n",
       "18             7.4\n",
       "13             5.1\n",
       "5              2.7"
      ]
     },
     "execution_count": 16,
     "metadata": {},
     "output_type": "execute_result"
    }
   ],
   "source": [
    "test_input = test[['Hours_of_Study']]\n",
    "test_input"
   ]
  },
  {
   "cell_type": "code",
   "execution_count": 17,
   "id": "b07d40ba",
   "metadata": {},
   "outputs": [
    {
     "data": {
      "text/plain": [
       "array([83.62284155, 34.74382459, 78.73493985, 36.69898527, 62.11607409,\n",
       "       26.92318188, 77.75735951, 74.8246185 , 52.3402707 , 28.87834256])"
      ]
     },
     "execution_count": 17,
     "metadata": {},
     "output_type": "execute_result"
    }
   ],
   "source": [
    "# Predict on above input\n",
    "predicted = model.predict(test_input)\n",
    "predicted"
   ]
  },
  {
   "cell_type": "code",
   "execution_count": 18,
   "id": "17536238",
   "metadata": {},
   "outputs": [
    {
     "data": {
      "text/plain": [
       "array([13.23705714, 17.14737849, 21.05769985, 26.92318188, 26.92318188,\n",
       "       28.87834256, 28.87834256, 33.76624426, 34.74382459, 36.69898527,\n",
       "       39.63172629, 46.47478866, 49.40752968, 52.3402707 , 56.25059205,\n",
       "       60.16091341, 62.11607409, 69.9367168 , 74.8246185 , 77.75735951,\n",
       "       78.73493985, 83.62284155, 85.57800223, 89.48832358, 92.4210646 ])"
      ]
     },
     "execution_count": 18,
     "metadata": {},
     "output_type": "execute_result"
    }
   ],
   "source": [
    "new_predicted = model.predict(df_n[['Hours_of_Study']])\n",
    "new_predicted"
   ]
  },
  {
   "cell_type": "code",
   "execution_count": 19,
   "id": "860141a1",
   "metadata": {},
   "outputs": [
    {
     "data": {
      "text/plain": [
       "<matplotlib.legend.Legend at 0x1de004f4c10>"
      ]
     },
     "execution_count": 19,
     "metadata": {},
     "output_type": "execute_result"
    },
    {
     "data": {
      "image/png": "[encoded data removed]",
      "text/plain": [
       "<Figure size 432x288 with 1 Axes>"
      ]
     },
     "metadata": {
      "needs_background": "light"
     },
     "output_type": "display_data"
    }
   ],
   "source": [
    "import matplotlib.pyplot as plt\n",
    "plt.scatter(X,y,label='Data points')\n",
    "plt.plot(X.values,new_predicted,'--r',label='Best fit line')\n",
    "plt.xlabel('Hours_of_Study')\n",
    "plt.ylabel('Percentage')\n",
    "plt.legend()"
   ]
  },
  {
   "cell_type": "code",
   "execution_count": 20,
   "id": "1296c1ea",
   "metadata": {},
   "outputs": [],
   "source": [
    "# Calculate Error\n",
    "# Error = Actual - Predicted"
   ]
  },
  {
   "cell_type": "code",
   "execution_count": 21,
   "id": "2c9908ab",
   "metadata": {},
   "outputs": [
    {
     "data": {
      "text/html": [
       "<div>\n",
       "<style scoped>\n",
       "    .dataframe tbody tr th:only-of-type {\n",
       "        vertical-align: middle;\n",
       "    }\n",
       "\n",
       "    .dataframe tbody tr th {\n",
       "        vertical-align: top;\n",
       "    }\n",
       "\n",
       "    .dataframe thead th {\n",
       "        text-align: right;\n",
       "    }\n",
       "</style>\n",
       "<table border=\"1\" class=\"dataframe\">\n",
       "  <thead>\n",
       "    <tr style=\"text-align: right;\">\n",
       "      <th></th>\n",
       "      <th>Hours_of_Study</th>\n",
       "      <th>Percentage</th>\n",
       "      <th>Predicted_Perc</th>\n",
       "    </tr>\n",
       "  </thead>\n",
       "  <tbody>\n",
       "    <tr>\n",
       "      <th>21</th>\n",
       "      <td>8.3</td>\n",
       "      <td>81</td>\n",
       "      <td>83.622842</td>\n",
       "    </tr>\n",
       "    <tr>\n",
       "      <th>8</th>\n",
       "      <td>3.3</td>\n",
       "      <td>42</td>\n",
       "      <td>34.743825</td>\n",
       "    </tr>\n",
       "    <tr>\n",
       "      <th>20</th>\n",
       "      <td>7.8</td>\n",
       "      <td>86</td>\n",
       "      <td>78.734940</td>\n",
       "    </tr>\n",
       "    <tr>\n",
       "      <th>9</th>\n",
       "      <td>3.5</td>\n",
       "      <td>30</td>\n",
       "      <td>36.698985</td>\n",
       "    </tr>\n",
       "    <tr>\n",
       "      <th>16</th>\n",
       "      <td>6.1</td>\n",
       "      <td>67</td>\n",
       "      <td>62.116074</td>\n",
       "    </tr>\n",
       "    <tr>\n",
       "      <th>3</th>\n",
       "      <td>2.5</td>\n",
       "      <td>21</td>\n",
       "      <td>26.923182</td>\n",
       "    </tr>\n",
       "    <tr>\n",
       "      <th>19</th>\n",
       "      <td>7.7</td>\n",
       "      <td>85</td>\n",
       "      <td>77.757360</td>\n",
       "    </tr>\n",
       "    <tr>\n",
       "      <th>18</th>\n",
       "      <td>7.4</td>\n",
       "      <td>69</td>\n",
       "      <td>74.824618</td>\n",
       "    </tr>\n",
       "    <tr>\n",
       "      <th>13</th>\n",
       "      <td>5.1</td>\n",
       "      <td>47</td>\n",
       "      <td>52.340271</td>\n",
       "    </tr>\n",
       "    <tr>\n",
       "      <th>5</th>\n",
       "      <td>2.7</td>\n",
       "      <td>30</td>\n",
       "      <td>28.878343</td>\n",
       "    </tr>\n",
       "  </tbody>\n",
       "</table>\n",
       "</div>"
      ],
      "text/plain": [
       "    Hours_of_Study  Percentage  Predicted_Perc\n",
       "21             8.3          81       83.622842\n",
       "8              3.3          42       34.743825\n",
       "20             7.8          86       78.734940\n",
       "9              3.5          30       36.698985\n",
       "16             6.1          67       62.116074\n",
       "3              2.5          21       26.923182\n",
       "19             7.7          85       77.757360\n",
       "18             7.4          69       74.824618\n",
       "13             5.1          47       52.340271\n",
       "5              2.7          30       28.878343"
      ]
     },
     "execution_count": 21,
     "metadata": {},
     "output_type": "execute_result"
    }
   ],
   "source": [
    "test['Predicted_Perc'] = predicted\n",
    "test"
   ]
  },
  {
   "cell_type": "code",
   "execution_count": 22,
   "id": "df17b7e8",
   "metadata": {},
   "outputs": [
    {
     "data": {
      "text/html": [
       "<div>\n",
       "<style scoped>\n",
       "    .dataframe tbody tr th:only-of-type {\n",
       "        vertical-align: middle;\n",
       "    }\n",
       "\n",
       "    .dataframe tbody tr th {\n",
       "        vertical-align: top;\n",
       "    }\n",
       "\n",
       "    .dataframe thead th {\n",
       "        text-align: right;\n",
       "    }\n",
       "</style>\n",
       "<table border=\"1\" class=\"dataframe\">\n",
       "  <thead>\n",
       "    <tr style=\"text-align: right;\">\n",
       "      <th></th>\n",
       "      <th>Hours_of_Study</th>\n",
       "      <th>Percentage</th>\n",
       "      <th>Predicted_Perc</th>\n",
       "    </tr>\n",
       "  </thead>\n",
       "  <tbody>\n",
       "    <tr>\n",
       "      <th>21</th>\n",
       "      <td>8.3</td>\n",
       "      <td>81</td>\n",
       "      <td>83.62</td>\n",
       "    </tr>\n",
       "    <tr>\n",
       "      <th>8</th>\n",
       "      <td>3.3</td>\n",
       "      <td>42</td>\n",
       "      <td>34.74</td>\n",
       "    </tr>\n",
       "    <tr>\n",
       "      <th>20</th>\n",
       "      <td>7.8</td>\n",
       "      <td>86</td>\n",
       "      <td>78.73</td>\n",
       "    </tr>\n",
       "    <tr>\n",
       "      <th>9</th>\n",
       "      <td>3.5</td>\n",
       "      <td>30</td>\n",
       "      <td>36.70</td>\n",
       "    </tr>\n",
       "    <tr>\n",
       "      <th>16</th>\n",
       "      <td>6.1</td>\n",
       "      <td>67</td>\n",
       "      <td>62.12</td>\n",
       "    </tr>\n",
       "    <tr>\n",
       "      <th>3</th>\n",
       "      <td>2.5</td>\n",
       "      <td>21</td>\n",
       "      <td>26.92</td>\n",
       "    </tr>\n",
       "    <tr>\n",
       "      <th>19</th>\n",
       "      <td>7.7</td>\n",
       "      <td>85</td>\n",
       "      <td>77.76</td>\n",
       "    </tr>\n",
       "    <tr>\n",
       "      <th>18</th>\n",
       "      <td>7.4</td>\n",
       "      <td>69</td>\n",
       "      <td>74.82</td>\n",
       "    </tr>\n",
       "    <tr>\n",
       "      <th>13</th>\n",
       "      <td>5.1</td>\n",
       "      <td>47</td>\n",
       "      <td>52.34</td>\n",
       "    </tr>\n",
       "    <tr>\n",
       "      <th>5</th>\n",
       "      <td>2.7</td>\n",
       "      <td>30</td>\n",
       "      <td>28.88</td>\n",
       "    </tr>\n",
       "  </tbody>\n",
       "</table>\n",
       "</div>"
      ],
      "text/plain": [
       "    Hours_of_Study  Percentage  Predicted_Perc\n",
       "21             8.3          81           83.62\n",
       "8              3.3          42           34.74\n",
       "20             7.8          86           78.73\n",
       "9              3.5          30           36.70\n",
       "16             6.1          67           62.12\n",
       "3              2.5          21           26.92\n",
       "19             7.7          85           77.76\n",
       "18             7.4          69           74.82\n",
       "13             5.1          47           52.34\n",
       "5              2.7          30           28.88"
      ]
     },
     "execution_count": 22,
     "metadata": {},
     "output_type": "execute_result"
    }
   ],
   "source": [
    "test['Predicted_Perc'] = round(test.Predicted_Perc,2)\n",
    "test"
   ]
  },
  {
   "cell_type": "code",
   "execution_count": 23,
   "id": "a7bc1264",
   "metadata": {},
   "outputs": [
    {
     "data": {
      "text/html": [
       "<div>\n",
       "<style scoped>\n",
       "    .dataframe tbody tr th:only-of-type {\n",
       "        vertical-align: middle;\n",
       "    }\n",
       "\n",
       "    .dataframe tbody tr th {\n",
       "        vertical-align: top;\n",
       "    }\n",
       "\n",
       "    .dataframe thead th {\n",
       "        text-align: right;\n",
       "    }\n",
       "</style>\n",
       "<table border=\"1\" class=\"dataframe\">\n",
       "  <thead>\n",
       "    <tr style=\"text-align: right;\">\n",
       "      <th></th>\n",
       "      <th>Hours_of_Study</th>\n",
       "      <th>Percentage</th>\n",
       "      <th>Predicted_Perc</th>\n",
       "      <th>error</th>\n",
       "    </tr>\n",
       "  </thead>\n",
       "  <tbody>\n",
       "    <tr>\n",
       "      <th>21</th>\n",
       "      <td>8.3</td>\n",
       "      <td>81</td>\n",
       "      <td>83.62</td>\n",
       "      <td>-2.62</td>\n",
       "    </tr>\n",
       "    <tr>\n",
       "      <th>8</th>\n",
       "      <td>3.3</td>\n",
       "      <td>42</td>\n",
       "      <td>34.74</td>\n",
       "      <td>7.26</td>\n",
       "    </tr>\n",
       "    <tr>\n",
       "      <th>20</th>\n",
       "      <td>7.8</td>\n",
       "      <td>86</td>\n",
       "      <td>78.73</td>\n",
       "      <td>7.27</td>\n",
       "    </tr>\n",
       "    <tr>\n",
       "      <th>9</th>\n",
       "      <td>3.5</td>\n",
       "      <td>30</td>\n",
       "      <td>36.70</td>\n",
       "      <td>-6.70</td>\n",
       "    </tr>\n",
       "    <tr>\n",
       "      <th>16</th>\n",
       "      <td>6.1</td>\n",
       "      <td>67</td>\n",
       "      <td>62.12</td>\n",
       "      <td>4.88</td>\n",
       "    </tr>\n",
       "    <tr>\n",
       "      <th>3</th>\n",
       "      <td>2.5</td>\n",
       "      <td>21</td>\n",
       "      <td>26.92</td>\n",
       "      <td>-5.92</td>\n",
       "    </tr>\n",
       "    <tr>\n",
       "      <th>19</th>\n",
       "      <td>7.7</td>\n",
       "      <td>85</td>\n",
       "      <td>77.76</td>\n",
       "      <td>7.24</td>\n",
       "    </tr>\n",
       "    <tr>\n",
       "      <th>18</th>\n",
       "      <td>7.4</td>\n",
       "      <td>69</td>\n",
       "      <td>74.82</td>\n",
       "      <td>-5.82</td>\n",
       "    </tr>\n",
       "    <tr>\n",
       "      <th>13</th>\n",
       "      <td>5.1</td>\n",
       "      <td>47</td>\n",
       "      <td>52.34</td>\n",
       "      <td>-5.34</td>\n",
       "    </tr>\n",
       "    <tr>\n",
       "      <th>5</th>\n",
       "      <td>2.7</td>\n",
       "      <td>30</td>\n",
       "      <td>28.88</td>\n",
       "      <td>1.12</td>\n",
       "    </tr>\n",
       "  </tbody>\n",
       "</table>\n",
       "</div>"
      ],
      "text/plain": [
       "    Hours_of_Study  Percentage  Predicted_Perc  error\n",
       "21             8.3          81           83.62  -2.62\n",
       "8              3.3          42           34.74   7.26\n",
       "20             7.8          86           78.73   7.27\n",
       "9              3.5          30           36.70  -6.70\n",
       "16             6.1          67           62.12   4.88\n",
       "3              2.5          21           26.92  -5.92\n",
       "19             7.7          85           77.76   7.24\n",
       "18             7.4          69           74.82  -5.82\n",
       "13             5.1          47           52.34  -5.34\n",
       "5              2.7          30           28.88   1.12"
      ]
     },
     "execution_count": 23,
     "metadata": {},
     "output_type": "execute_result"
    }
   ],
   "source": [
    "# add new coloumn of error\n",
    "test['error'] = test.Percentage - test.Predicted_Perc\n",
    "test"
   ]
  },
  {
   "cell_type": "markdown",
   "id": "dfd3cafa",
   "metadata": {},
   "source": [
    "## Step 6: Perform Evalution Metrics using sklearn library"
   ]
  },
  {
   "cell_type": "code",
   "execution_count": 24,
   "id": "dc147a8a",
   "metadata": {},
   "outputs": [],
   "source": [
    "from sklearn.metrics import mean_absolute_error\n",
    "from sklearn.metrics import mean_squared_error\n",
    "from sklearn.metrics import r2_score"
   ]
  },
  {
   "cell_type": "code",
   "execution_count": 25,
   "id": "276c5215",
   "metadata": {},
   "outputs": [
    {
     "data": {
      "text/plain": [
       "5.417"
      ]
     },
     "execution_count": 25,
     "metadata": {},
     "output_type": "execute_result"
    }
   ],
   "source": [
    "mean_absolute_error(test.Percentage,test.Predicted_Perc)"
   ]
  },
  {
   "cell_type": "markdown",
   "id": "d5e048a5",
   "metadata": {},
   "source": [
    "##### Mean Absolute Error (MAE) is the arithmetic average of absolute errors. The lower the MAE, the higher the accuracy of a model. Here also, we are getting lower value of MAE, which means model accuracy is high. "
   ]
  },
  {
   "cell_type": "code",
   "execution_count": 26,
   "id": "6f17e43a",
   "metadata": {},
   "outputs": [
    {
     "data": {
      "text/plain": [
       "33.22356999999999"
      ]
     },
     "execution_count": 26,
     "metadata": {},
     "output_type": "execute_result"
    }
   ],
   "source": [
    "mean_squared_error(test.Percentage,test.Predicted_Perc)"
   ]
  },
  {
   "cell_type": "markdown",
   "id": "0731e9c6",
   "metadata": {},
   "source": [
    "##### Mean squared error (MSE) measures the amount of error in statistical models. It assesses the average squared difference between the observed and predicted values. When a model has no error, the MSE equals zero.There is no correct value for MSE. But the lower the value the better and 0 means the model is perfect. Here, we are getting comparatively low value of MSE. "
   ]
  },
  {
   "cell_type": "code",
   "execution_count": 27,
   "id": "cb7d5536",
   "metadata": {},
   "outputs": [
    {
     "data": {
      "text/plain": [
       "93.96987621605925"
      ]
     },
     "execution_count": 27,
     "metadata": {},
     "output_type": "execute_result"
    }
   ],
   "source": [
    "# Model accuracy\n",
    "r2_score(test.Percentage,test.Predicted_Perc)*100"
   ]
  },
  {
   "cell_type": "markdown",
   "id": "8b6cfdbc",
   "metadata": {},
   "source": [
    "##### R-squared shows how well the data fit the regression model i.e.the goodness of fit.It always ranges between 0 & 1. Here, we are getting higher value of R-squared, which is a decent value."
   ]
  },
  {
   "cell_type": "code",
   "execution_count": 28,
   "id": "91c82733",
   "metadata": {},
   "outputs": [
    {
     "data": {
      "text/plain": [
       "95.29481969048355"
      ]
     },
     "execution_count": 28,
     "metadata": {},
     "output_type": "execute_result"
    }
   ],
   "source": [
    "# Data accuracy\n",
    "model.score(X,y)*100"
   ]
  },
  {
   "cell_type": "code",
   "execution_count": 29,
   "id": "7ba94f36",
   "metadata": {},
   "outputs": [
    {
     "data": {
      "text/plain": [
       "99.99999770316612"
      ]
     },
     "execution_count": 29,
     "metadata": {},
     "output_type": "execute_result"
    }
   ],
   "source": [
    "model.score(test[['Hours_of_Study']],test.Predicted_Perc)*100"
   ]
  },
  {
   "cell_type": "markdown",
   "id": "4574d590",
   "metadata": {},
   "source": [
    "##### Conclusion"
   ]
  },
  {
   "cell_type": "markdown",
   "id": "36aacac2",
   "metadata": {},
   "source": [
    "##### Successfully completed task 1 i.e. Prediction using Supervised ML. And looking at redults, we can say that overall performance of model is good. And predicted score for a student who studies 9.25 hrs/day is 92.90%."
   ]
  },
  {
   "cell_type": "markdown",
   "id": "46285866",
   "metadata": {},
   "source": [
    "##### Thank you!"
   ]
  }
 ],
 "metadata": {
  "kernelspec": {
   "display_name": "Python 3 (ipykernel)",
   "language": "python",
   "name": "python3"
  },
  "language_info": {
   "codemirror_mode": {
    "name": "ipython",
    "version": 3
   },
   "file_extension": ".py",
   "mimetype": "text/x-python",
   "name": "python",
   "nbconvert_exporter": "python",
   "pygments_lexer": "ipython3",
   "version": "3.9.12"
  }
 },
 "nbformat": 4,
 "nbformat_minor": 5
}
